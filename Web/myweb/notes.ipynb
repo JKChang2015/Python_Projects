{
 "cells": [
  {
   "cell_type": "markdown",
   "metadata": {
    "jupyter": {
     "outputs_hidden": true
    }
   },
   "source": [
    "## Django"
   ]
  },
  {
   "cell_type": "markdown",
   "metadata": {},
   "source": [
    "### MVT 模式\n",
    "简单描述一次完整的浏览器打开页面的操作：\n",
    "\n",
    "* 在浏览器的地址栏输入网址，或者在搜索引擎的搜索框输入关键字，然后敲回车\n",
    "* 浏览器会把页面请求发送给对应的服务器\n",
    "* 服务器收到请求，处理请求，返回响应\n",
    "* 浏览器收到响应，解析成页面显示在屏幕上\n",
    "\n",
    "![web](./resources/notes_images/wm.png)\n",
    "\n",
    "\n",
    "如上图所示，当我们使用浏览器打开实验楼网站的课程页面：\n",
    "\n",
    "* 浏览器向实验楼的服务器发送一个页面请求，请求对象中包含 URL 信息、浏览器版本、Cookie 等信息。\n",
    "* 服务器作为后端控制层，从请求对象中提取 URL 字符串，解析分配给对应的视图函数，由视图函数进行处理。\n",
    "* 视图函数需要查询数据库中的课程数据，数据库将查询结果返回给视图函数。\n",
    "* 视图函数将处理结果打包成 Response 对象返回给浏览器。\n",
    "* 浏览器收到响应，存储 Cookie 、解析 JS 数据，将完整的页面显示在屏幕上。\n",
    "\n",
    "![web](./resources/notes_images/mvt.gif)\n",
    "\n",
    "在收到浏览器的请求后，首先由 **视图函数(View)** 来接受请求。视图函数在处理请求的过程中需要**模板(Templates)** 来配合，模板提供页面的所有静态资源，包括 HTML 、CSS 、JS 数据，它们是渲染页面的基础数据。页面中的动态数据，例如课程名称、简介、学习人数等数据需要从数据库中获取，这需要创建**模型类（Model）**（也叫映射类）来与数据库交互。\n",
    "\n",
    "视图函数即 View ，模型类即 Model ，前端模板即为 Templates ，合起来简称 MVT 。这种设计模式就叫做 MVT 设计模式。"
   ]
  },
  {
   "cell_type": "markdown",
   "metadata": {},
   "source": [
    "### Django 简介\n",
    "\n",
    "Django 是一个由 Python 编写的开放源代码的 Web 应用程序开发框架。它采用了 MVT 软件设计模式，即 Model 模型、View 视图和 Templates 模板。\n",
    "\n",
    "Django 的主要目标是使得开发流程复杂、依赖数据库的网站变得简单。Django 注重各个组件间的低耦合性，遵循 DRY 原则。\n",
    "\n",
    "Django 框架的核心包括：\n",
    "\n",
    "* 面向对象的关系映射模型，支持编写对应数据表的映射类，这一点做得格外优秀\n",
    "* URL 分发器，基于正则表达式（Django2 中支持 path 编写简洁路径字段）\n",
    "* 视图系统，用于接收客户端请求和返回响应\n",
    "* 模板系统，内置 Jinja2 模板引擎，便于编写 Python 风格的动态数据处理代码\n",
    "* 轻量、独立的 Web 服务器，便于开发测试\n",
    "* 缓存框架，支持多种缓存方式\n",
    "* 中间件，对请求处理阶段进行额外操作\n",
    "\n",
    "同时 Django 内置了一些针对新闻类网站的基础且实用的应用：\n",
    "\n",
    "* 可扩展的认证系统\n",
    "* 动态站点管理页面\n",
    "* 灵活的评论系统\n",
    "* CSRF Token 工具\n",
    "* 标记语言模板库\n",
    "\n",
    "在使用 Python 进行 Web 开发时，除了 Django 编程人员还有多种框架选择：\n",
    "\n",
    "* Flask 很轻量，可以迅速搭建一个简单的 Web 网站。几乎没有组件限制，提供大量功能丰富且实用的插件，例如 Flask-Admin 后台管理插件、Flask-WTForm 表单管理插件、Flask-Login 登录功能插件、Flask-Migrate 数据表版本控制插件等。著名的科学网站果壳网就是使用 Flask 开发的。\n",
    "* Tornado 性能较高，支持异步处理，这是它最大的亮点。对 Restful API 设计良好，但没有针对数据库设计的优秀的 ORM 模块，这是比较麻烦的。\n",
    "* Bottle 更加轻量，只依赖于 Python 标准库，无法做到快速建站，在 Flask 面前几乎没有优势可言。\n",
    "* Aiohttp 是比较新的框架，它需要基于 asyncio 编写异步代码，性能方面不必担心，但框架完善还需要较长时间。\n",
    "\n",
    "此外还有数种小众框架，它们都有一些独到之处，但在商用上的前途比较渺茫。对 Python Web 开发而言，小的网站会使用 Flask ，大型的网站就要用 Django 。\n"
   ]
  },
  {
   "cell_type": "markdown",
   "metadata": {},
   "source": [
    "### Django 初始化\n",
    "\n",
    "类似一个公司有生产部门、销售部门、财务部门，一个 Web 项目也可以分成多个部分，可以称它们为应用（application）\n",
    "\n",
    "``` html\n",
    "django-admin startproject <project name>\n",
    "cd <project name>\n",
    "python manage.py startapp <app name>\n",
    "\n",
    "```\n",
    "\n",
    "大型项目中，通常会有多个应用，learn1 、learn2 、learn3 等等，每个应用都会在主目录 myweb 下拥有自己的目录结构。\n",
    "\n",
    "在项目（project）目录下 **./settings**  添加刚刚创建的app名\n",
    "\n",
    "```python\n",
    "INSTALLED_APPS = [\n",
    "    'django.contrib.admin',\n",
    "    'django.contrib.auth',\n",
    "    'django.contrib.contenttypes',\n",
    "    'django.contrib.sessions',\n",
    "    'django.contrib.messages',\n",
    "    'django.contrib.staticfiles',\n",
    "    <app name>,\n",
    "]\n",
    "```\n",
    "\n",
    "`<app name>` 可以在 apps.py 中找到"
   ]
  },
  {
   "cell_type": "markdown",
   "metadata": {},
   "source": [
    "### 启动Django\n",
    "\n",
    "```python\n",
    "python manage.py runserver 0:8080\n",
    "```\n",
    "\n",
    "\n",
    "0:8080 为 0.0.0.0:8080 的简写，冒号前面为 IP 地址，后面为端口号\n",
    "\n",
    "需要在 `myweb/settings.py` 修改 ALLOWED_HOSTS 这一项。将 `['0.0.0.0']` 添加进去\n",
    "\n",
    "\n",
    "![welcome](./resources/notes_images/django%20welcome%20page.png)\n"
   ]
  },
  {
   "cell_type": "code",
   "execution_count": null,
   "metadata": {},
   "outputs": [],
   "source": []
  }
 ],
 "metadata": {
  "kernelspec": {
   "display_name": "Python 3",
   "language": "python",
   "name": "python3"
  },
  "language_info": {
   "codemirror_mode": {
    "name": "ipython",
    "version": 3
   },
   "file_extension": ".py",
   "mimetype": "text/x-python",
   "name": "python",
   "nbconvert_exporter": "python",
   "pygments_lexer": "ipython3",
   "version": "3.7.5"
  }
 },
 "nbformat": 4,
 "nbformat_minor": 4
}
